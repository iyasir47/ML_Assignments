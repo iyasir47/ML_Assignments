{
  "cells": [
    {
      "cell_type": "markdown",
      "source": [
        "# **Practical assigment for Topic 6**"
      ],
      "metadata": {
        "id": "beWG39yOBSwX"
      }
    },
    {
      "cell_type": "markdown",
      "source": [
        "Our imports."
      ],
      "metadata": {
        "id": "OxOO241zwcgn"
      }
    },
    {
      "cell_type": "code",
      "source": [
        "import numpy as np\n",
        "import matplotlib.pyplot as plt\n",
        "from sklearn.neighbors import KNeighborsRegressor\n",
        "from sklearn.model_selection import cross_val_predict\n",
        "from sklearn.metrics import mean_absolute_error, mean_squared_error, root_mean_squared_error, r2_score"
      ],
      "metadata": {
        "id": "3LcrOIO65U8D"
      },
      "execution_count": 2,
      "outputs": []
    },
    {
      "cell_type": "markdown",
      "source": [
        "Our dataset."
      ],
      "metadata": {
        "id": "PuOPcJvikME-"
      }
    },
    {
      "cell_type": "code",
      "source": [
        "np.random.seed(42)\n",
        "n = 100\n",
        "X = 6 * np.random.rand(n, 1) - 3\n",
        "y = 0.5 * X ** 2 + X + 2 + np.random.randn(n, 1)"
      ],
      "metadata": {
        "id": "TYVKxAg1psvE"
      },
      "execution_count": 3,
      "outputs": []
    },
    {
      "cell_type": "markdown",
      "source": [
        "Create KNN model."
      ],
      "metadata": {
        "id": "7O7w1AQTkUFo"
      }
    },
    {
      "cell_type": "code",
      "source": [
        "knn = KNeighborsRegressor(n_neighbors=10)\n",
        "#knn = KNeighborsRegressor(n_neighbors=1, weights='distance')\n",
        "knn.fit(X, y)"
      ],
      "metadata": {
        "colab": {
          "base_uri": "https://localhost:8080/",
          "height": 80
        },
        "id": "W3k4U0pY5Qjp",
        "outputId": "64baf79a-e0d3-4162-d346-61ce394dd0f4"
      },
      "execution_count": null,
      "outputs": [
        {
          "output_type": "execute_result",
          "data": {
            "text/plain": [
              "KNeighborsRegressor(n_neighbors=10)"
            ],
            "text/html": [
              "<style>#sk-container-id-1 {\n",
              "  /* Definition of color scheme common for light and dark mode */\n",
              "  --sklearn-color-text: black;\n",
              "  --sklearn-color-line: gray;\n",
              "  /* Definition of color scheme for unfitted estimators */\n",
              "  --sklearn-color-unfitted-level-0: #fff5e6;\n",
              "  --sklearn-color-unfitted-level-1: #f6e4d2;\n",
              "  --sklearn-color-unfitted-level-2: #ffe0b3;\n",
              "  --sklearn-color-unfitted-level-3: chocolate;\n",
              "  /* Definition of color scheme for fitted estimators */\n",
              "  --sklearn-color-fitted-level-0: #f0f8ff;\n",
              "  --sklearn-color-fitted-level-1: #d4ebff;\n",
              "  --sklearn-color-fitted-level-2: #b3dbfd;\n",
              "  --sklearn-color-fitted-level-3: cornflowerblue;\n",
              "\n",
              "  /* Specific color for light theme */\n",
              "  --sklearn-color-text-on-default-background: var(--sg-text-color, var(--theme-code-foreground, var(--jp-content-font-color1, black)));\n",
              "  --sklearn-color-background: var(--sg-background-color, var(--theme-background, var(--jp-layout-color0, white)));\n",
              "  --sklearn-color-border-box: var(--sg-text-color, var(--theme-code-foreground, var(--jp-content-font-color1, black)));\n",
              "  --sklearn-color-icon: #696969;\n",
              "\n",
              "  @media (prefers-color-scheme: dark) {\n",
              "    /* Redefinition of color scheme for dark theme */\n",
              "    --sklearn-color-text-on-default-background: var(--sg-text-color, var(--theme-code-foreground, var(--jp-content-font-color1, white)));\n",
              "    --sklearn-color-background: var(--sg-background-color, var(--theme-background, var(--jp-layout-color0, #111)));\n",
              "    --sklearn-color-border-box: var(--sg-text-color, var(--theme-code-foreground, var(--jp-content-font-color1, white)));\n",
              "    --sklearn-color-icon: #878787;\n",
              "  }\n",
              "}\n",
              "\n",
              "#sk-container-id-1 {\n",
              "  color: var(--sklearn-color-text);\n",
              "}\n",
              "\n",
              "#sk-container-id-1 pre {\n",
              "  padding: 0;\n",
              "}\n",
              "\n",
              "#sk-container-id-1 input.sk-hidden--visually {\n",
              "  border: 0;\n",
              "  clip: rect(1px 1px 1px 1px);\n",
              "  clip: rect(1px, 1px, 1px, 1px);\n",
              "  height: 1px;\n",
              "  margin: -1px;\n",
              "  overflow: hidden;\n",
              "  padding: 0;\n",
              "  position: absolute;\n",
              "  width: 1px;\n",
              "}\n",
              "\n",
              "#sk-container-id-1 div.sk-dashed-wrapped {\n",
              "  border: 1px dashed var(--sklearn-color-line);\n",
              "  margin: 0 0.4em 0.5em 0.4em;\n",
              "  box-sizing: border-box;\n",
              "  padding-bottom: 0.4em;\n",
              "  background-color: var(--sklearn-color-background);\n",
              "}\n",
              "\n",
              "#sk-container-id-1 div.sk-container {\n",
              "  /* jupyter's `normalize.less` sets `[hidden] { display: none; }`\n",
              "     but bootstrap.min.css set `[hidden] { display: none !important; }`\n",
              "     so we also need the `!important` here to be able to override the\n",
              "     default hidden behavior on the sphinx rendered scikit-learn.org.\n",
              "     See: https://github.com/scikit-learn/scikit-learn/issues/21755 */\n",
              "  display: inline-block !important;\n",
              "  position: relative;\n",
              "}\n",
              "\n",
              "#sk-container-id-1 div.sk-text-repr-fallback {\n",
              "  display: none;\n",
              "}\n",
              "\n",
              "div.sk-parallel-item,\n",
              "div.sk-serial,\n",
              "div.sk-item {\n",
              "  /* draw centered vertical line to link estimators */\n",
              "  background-image: linear-gradient(var(--sklearn-color-text-on-default-background), var(--sklearn-color-text-on-default-background));\n",
              "  background-size: 2px 100%;\n",
              "  background-repeat: no-repeat;\n",
              "  background-position: center center;\n",
              "}\n",
              "\n",
              "/* Parallel-specific style estimator block */\n",
              "\n",
              "#sk-container-id-1 div.sk-parallel-item::after {\n",
              "  content: \"\";\n",
              "  width: 100%;\n",
              "  border-bottom: 2px solid var(--sklearn-color-text-on-default-background);\n",
              "  flex-grow: 1;\n",
              "}\n",
              "\n",
              "#sk-container-id-1 div.sk-parallel {\n",
              "  display: flex;\n",
              "  align-items: stretch;\n",
              "  justify-content: center;\n",
              "  background-color: var(--sklearn-color-background);\n",
              "  position: relative;\n",
              "}\n",
              "\n",
              "#sk-container-id-1 div.sk-parallel-item {\n",
              "  display: flex;\n",
              "  flex-direction: column;\n",
              "}\n",
              "\n",
              "#sk-container-id-1 div.sk-parallel-item:first-child::after {\n",
              "  align-self: flex-end;\n",
              "  width: 50%;\n",
              "}\n",
              "\n",
              "#sk-container-id-1 div.sk-parallel-item:last-child::after {\n",
              "  align-self: flex-start;\n",
              "  width: 50%;\n",
              "}\n",
              "\n",
              "#sk-container-id-1 div.sk-parallel-item:only-child::after {\n",
              "  width: 0;\n",
              "}\n",
              "\n",
              "/* Serial-specific style estimator block */\n",
              "\n",
              "#sk-container-id-1 div.sk-serial {\n",
              "  display: flex;\n",
              "  flex-direction: column;\n",
              "  align-items: center;\n",
              "  background-color: var(--sklearn-color-background);\n",
              "  padding-right: 1em;\n",
              "  padding-left: 1em;\n",
              "}\n",
              "\n",
              "\n",
              "/* Toggleable style: style used for estimator/Pipeline/ColumnTransformer box that is\n",
              "clickable and can be expanded/collapsed.\n",
              "- Pipeline and ColumnTransformer use this feature and define the default style\n",
              "- Estimators will overwrite some part of the style using the `sk-estimator` class\n",
              "*/\n",
              "\n",
              "/* Pipeline and ColumnTransformer style (default) */\n",
              "\n",
              "#sk-container-id-1 div.sk-toggleable {\n",
              "  /* Default theme specific background. It is overwritten whether we have a\n",
              "  specific estimator or a Pipeline/ColumnTransformer */\n",
              "  background-color: var(--sklearn-color-background);\n",
              "}\n",
              "\n",
              "/* Toggleable label */\n",
              "#sk-container-id-1 label.sk-toggleable__label {\n",
              "  cursor: pointer;\n",
              "  display: block;\n",
              "  width: 100%;\n",
              "  margin-bottom: 0;\n",
              "  padding: 0.5em;\n",
              "  box-sizing: border-box;\n",
              "  text-align: center;\n",
              "}\n",
              "\n",
              "#sk-container-id-1 label.sk-toggleable__label-arrow:before {\n",
              "  /* Arrow on the left of the label */\n",
              "  content: \"▸\";\n",
              "  float: left;\n",
              "  margin-right: 0.25em;\n",
              "  color: var(--sklearn-color-icon);\n",
              "}\n",
              "\n",
              "#sk-container-id-1 label.sk-toggleable__label-arrow:hover:before {\n",
              "  color: var(--sklearn-color-text);\n",
              "}\n",
              "\n",
              "/* Toggleable content - dropdown */\n",
              "\n",
              "#sk-container-id-1 div.sk-toggleable__content {\n",
              "  max-height: 0;\n",
              "  max-width: 0;\n",
              "  overflow: hidden;\n",
              "  text-align: left;\n",
              "  /* unfitted */\n",
              "  background-color: var(--sklearn-color-unfitted-level-0);\n",
              "}\n",
              "\n",
              "#sk-container-id-1 div.sk-toggleable__content.fitted {\n",
              "  /* fitted */\n",
              "  background-color: var(--sklearn-color-fitted-level-0);\n",
              "}\n",
              "\n",
              "#sk-container-id-1 div.sk-toggleable__content pre {\n",
              "  margin: 0.2em;\n",
              "  border-radius: 0.25em;\n",
              "  color: var(--sklearn-color-text);\n",
              "  /* unfitted */\n",
              "  background-color: var(--sklearn-color-unfitted-level-0);\n",
              "}\n",
              "\n",
              "#sk-container-id-1 div.sk-toggleable__content.fitted pre {\n",
              "  /* unfitted */\n",
              "  background-color: var(--sklearn-color-fitted-level-0);\n",
              "}\n",
              "\n",
              "#sk-container-id-1 input.sk-toggleable__control:checked~div.sk-toggleable__content {\n",
              "  /* Expand drop-down */\n",
              "  max-height: 200px;\n",
              "  max-width: 100%;\n",
              "  overflow: auto;\n",
              "}\n",
              "\n",
              "#sk-container-id-1 input.sk-toggleable__control:checked~label.sk-toggleable__label-arrow:before {\n",
              "  content: \"▾\";\n",
              "}\n",
              "\n",
              "/* Pipeline/ColumnTransformer-specific style */\n",
              "\n",
              "#sk-container-id-1 div.sk-label input.sk-toggleable__control:checked~label.sk-toggleable__label {\n",
              "  color: var(--sklearn-color-text);\n",
              "  background-color: var(--sklearn-color-unfitted-level-2);\n",
              "}\n",
              "\n",
              "#sk-container-id-1 div.sk-label.fitted input.sk-toggleable__control:checked~label.sk-toggleable__label {\n",
              "  background-color: var(--sklearn-color-fitted-level-2);\n",
              "}\n",
              "\n",
              "/* Estimator-specific style */\n",
              "\n",
              "/* Colorize estimator box */\n",
              "#sk-container-id-1 div.sk-estimator input.sk-toggleable__control:checked~label.sk-toggleable__label {\n",
              "  /* unfitted */\n",
              "  background-color: var(--sklearn-color-unfitted-level-2);\n",
              "}\n",
              "\n",
              "#sk-container-id-1 div.sk-estimator.fitted input.sk-toggleable__control:checked~label.sk-toggleable__label {\n",
              "  /* fitted */\n",
              "  background-color: var(--sklearn-color-fitted-level-2);\n",
              "}\n",
              "\n",
              "#sk-container-id-1 div.sk-label label.sk-toggleable__label,\n",
              "#sk-container-id-1 div.sk-label label {\n",
              "  /* The background is the default theme color */\n",
              "  color: var(--sklearn-color-text-on-default-background);\n",
              "}\n",
              "\n",
              "/* On hover, darken the color of the background */\n",
              "#sk-container-id-1 div.sk-label:hover label.sk-toggleable__label {\n",
              "  color: var(--sklearn-color-text);\n",
              "  background-color: var(--sklearn-color-unfitted-level-2);\n",
              "}\n",
              "\n",
              "/* Label box, darken color on hover, fitted */\n",
              "#sk-container-id-1 div.sk-label.fitted:hover label.sk-toggleable__label.fitted {\n",
              "  color: var(--sklearn-color-text);\n",
              "  background-color: var(--sklearn-color-fitted-level-2);\n",
              "}\n",
              "\n",
              "/* Estimator label */\n",
              "\n",
              "#sk-container-id-1 div.sk-label label {\n",
              "  font-family: monospace;\n",
              "  font-weight: bold;\n",
              "  display: inline-block;\n",
              "  line-height: 1.2em;\n",
              "}\n",
              "\n",
              "#sk-container-id-1 div.sk-label-container {\n",
              "  text-align: center;\n",
              "}\n",
              "\n",
              "/* Estimator-specific */\n",
              "#sk-container-id-1 div.sk-estimator {\n",
              "  font-family: monospace;\n",
              "  border: 1px dotted var(--sklearn-color-border-box);\n",
              "  border-radius: 0.25em;\n",
              "  box-sizing: border-box;\n",
              "  margin-bottom: 0.5em;\n",
              "  /* unfitted */\n",
              "  background-color: var(--sklearn-color-unfitted-level-0);\n",
              "}\n",
              "\n",
              "#sk-container-id-1 div.sk-estimator.fitted {\n",
              "  /* fitted */\n",
              "  background-color: var(--sklearn-color-fitted-level-0);\n",
              "}\n",
              "\n",
              "/* on hover */\n",
              "#sk-container-id-1 div.sk-estimator:hover {\n",
              "  /* unfitted */\n",
              "  background-color: var(--sklearn-color-unfitted-level-2);\n",
              "}\n",
              "\n",
              "#sk-container-id-1 div.sk-estimator.fitted:hover {\n",
              "  /* fitted */\n",
              "  background-color: var(--sklearn-color-fitted-level-2);\n",
              "}\n",
              "\n",
              "/* Specification for estimator info (e.g. \"i\" and \"?\") */\n",
              "\n",
              "/* Common style for \"i\" and \"?\" */\n",
              "\n",
              ".sk-estimator-doc-link,\n",
              "a:link.sk-estimator-doc-link,\n",
              "a:visited.sk-estimator-doc-link {\n",
              "  float: right;\n",
              "  font-size: smaller;\n",
              "  line-height: 1em;\n",
              "  font-family: monospace;\n",
              "  background-color: var(--sklearn-color-background);\n",
              "  border-radius: 1em;\n",
              "  height: 1em;\n",
              "  width: 1em;\n",
              "  text-decoration: none !important;\n",
              "  margin-left: 1ex;\n",
              "  /* unfitted */\n",
              "  border: var(--sklearn-color-unfitted-level-1) 1pt solid;\n",
              "  color: var(--sklearn-color-unfitted-level-1);\n",
              "}\n",
              "\n",
              ".sk-estimator-doc-link.fitted,\n",
              "a:link.sk-estimator-doc-link.fitted,\n",
              "a:visited.sk-estimator-doc-link.fitted {\n",
              "  /* fitted */\n",
              "  border: var(--sklearn-color-fitted-level-1) 1pt solid;\n",
              "  color: var(--sklearn-color-fitted-level-1);\n",
              "}\n",
              "\n",
              "/* On hover */\n",
              "div.sk-estimator:hover .sk-estimator-doc-link:hover,\n",
              ".sk-estimator-doc-link:hover,\n",
              "div.sk-label-container:hover .sk-estimator-doc-link:hover,\n",
              ".sk-estimator-doc-link:hover {\n",
              "  /* unfitted */\n",
              "  background-color: var(--sklearn-color-unfitted-level-3);\n",
              "  color: var(--sklearn-color-background);\n",
              "  text-decoration: none;\n",
              "}\n",
              "\n",
              "div.sk-estimator.fitted:hover .sk-estimator-doc-link.fitted:hover,\n",
              ".sk-estimator-doc-link.fitted:hover,\n",
              "div.sk-label-container:hover .sk-estimator-doc-link.fitted:hover,\n",
              ".sk-estimator-doc-link.fitted:hover {\n",
              "  /* fitted */\n",
              "  background-color: var(--sklearn-color-fitted-level-3);\n",
              "  color: var(--sklearn-color-background);\n",
              "  text-decoration: none;\n",
              "}\n",
              "\n",
              "/* Span, style for the box shown on hovering the info icon */\n",
              ".sk-estimator-doc-link span {\n",
              "  display: none;\n",
              "  z-index: 9999;\n",
              "  position: relative;\n",
              "  font-weight: normal;\n",
              "  right: .2ex;\n",
              "  padding: .5ex;\n",
              "  margin: .5ex;\n",
              "  width: min-content;\n",
              "  min-width: 20ex;\n",
              "  max-width: 50ex;\n",
              "  color: var(--sklearn-color-text);\n",
              "  box-shadow: 2pt 2pt 4pt #999;\n",
              "  /* unfitted */\n",
              "  background: var(--sklearn-color-unfitted-level-0);\n",
              "  border: .5pt solid var(--sklearn-color-unfitted-level-3);\n",
              "}\n",
              "\n",
              ".sk-estimator-doc-link.fitted span {\n",
              "  /* fitted */\n",
              "  background: var(--sklearn-color-fitted-level-0);\n",
              "  border: var(--sklearn-color-fitted-level-3);\n",
              "}\n",
              "\n",
              ".sk-estimator-doc-link:hover span {\n",
              "  display: block;\n",
              "}\n",
              "\n",
              "/* \"?\"-specific style due to the `<a>` HTML tag */\n",
              "\n",
              "#sk-container-id-1 a.estimator_doc_link {\n",
              "  float: right;\n",
              "  font-size: 1rem;\n",
              "  line-height: 1em;\n",
              "  font-family: monospace;\n",
              "  background-color: var(--sklearn-color-background);\n",
              "  border-radius: 1rem;\n",
              "  height: 1rem;\n",
              "  width: 1rem;\n",
              "  text-decoration: none;\n",
              "  /* unfitted */\n",
              "  color: var(--sklearn-color-unfitted-level-1);\n",
              "  border: var(--sklearn-color-unfitted-level-1) 1pt solid;\n",
              "}\n",
              "\n",
              "#sk-container-id-1 a.estimator_doc_link.fitted {\n",
              "  /* fitted */\n",
              "  border: var(--sklearn-color-fitted-level-1) 1pt solid;\n",
              "  color: var(--sklearn-color-fitted-level-1);\n",
              "}\n",
              "\n",
              "/* On hover */\n",
              "#sk-container-id-1 a.estimator_doc_link:hover {\n",
              "  /* unfitted */\n",
              "  background-color: var(--sklearn-color-unfitted-level-3);\n",
              "  color: var(--sklearn-color-background);\n",
              "  text-decoration: none;\n",
              "}\n",
              "\n",
              "#sk-container-id-1 a.estimator_doc_link.fitted:hover {\n",
              "  /* fitted */\n",
              "  background-color: var(--sklearn-color-fitted-level-3);\n",
              "}\n",
              "</style><div id=\"sk-container-id-1\" class=\"sk-top-container\"><div class=\"sk-text-repr-fallback\"><pre>KNeighborsRegressor(n_neighbors=10)</pre><b>In a Jupyter environment, please rerun this cell to show the HTML representation or trust the notebook. <br />On GitHub, the HTML representation is unable to render, please try loading this page with nbviewer.org.</b></div><div class=\"sk-container\" hidden><div class=\"sk-item\"><div class=\"sk-estimator fitted sk-toggleable\"><input class=\"sk-toggleable__control sk-hidden--visually\" id=\"sk-estimator-id-1\" type=\"checkbox\" checked><label for=\"sk-estimator-id-1\" class=\"sk-toggleable__label fitted sk-toggleable__label-arrow fitted\">&nbsp;&nbsp;KNeighborsRegressor<a class=\"sk-estimator-doc-link fitted\" rel=\"noreferrer\" target=\"_blank\" href=\"https://scikit-learn.org/1.5/modules/generated/sklearn.neighbors.KNeighborsRegressor.html\">?<span>Documentation for KNeighborsRegressor</span></a><span class=\"sk-estimator-doc-link fitted\">i<span>Fitted</span></span></label><div class=\"sk-toggleable__content fitted\"><pre>KNeighborsRegressor(n_neighbors=10)</pre></div> </div></div></div></div>"
            ]
          },
          "metadata": {},
          "execution_count": 3
        }
      ]
    },
    {
      "cell_type": "markdown",
      "source": [
        "Plot the model."
      ],
      "metadata": {
        "id": "ApgbNW39kVS8"
      }
    },
    {
      "cell_type": "code",
      "source": [
        "X_plot = np.linspace(-3, 3, 5000).reshape(5000, 1)\n",
        "yHat = knn.predict(X_plot)\n",
        "\n",
        "plt.figure(figsize=(6, 4))\n",
        "plt.plot(X, y, \"b.\")\n",
        "plt.plot(X_plot, yHat, \"r-\")\n",
        "plt.xlabel(\"$x_1$\", fontsize=14)\n",
        "plt.ylabel(\"$y$\", fontsize=14)\n",
        "plt.axis([-3, 3, 0, 10])\n",
        "plt.grid()\n",
        "plt.show()"
      ],
      "metadata": {
        "colab": {
          "base_uri": "https://localhost:8080/",
          "height": 398
        },
        "id": "fgjDmngTwfNI",
        "outputId": "3c098067-a2f9-4efe-c008-a58680893f39"
      },
      "execution_count": null,
      "outputs": [
        {
          "output_type": "display_data",
          "data": {
            "text/plain": [
              "<Figure size 600x400 with 1 Axes>"
            ],
            "image/png": "[encoded data removed]"
          },
          "metadata": {}
        }
      ]
    },
    {
      "cell_type": "markdown",
      "source": [
        "Evaluate the model using Cross-Validation."
      ],
      "metadata": {
        "id": "KZj7SrzekX8V"
      }
    },
    {
      "cell_type": "code",
      "source": [
        "yHat = cross_val_predict(knn, X, y, cv=10)\n",
        "\n",
        "print('MAE: ', mean_absolute_error(y, yHat))\n",
        "print('MSE: ', mean_squared_error(y, yHat))\n",
        "print('RMSE:', root_mean_squared_error(y, yHat))\n",
        "print('R2:  ', r2_score(y, yHat))"
      ],
      "metadata": {
        "colab": {
          "base_uri": "https://localhost:8080/"
        },
        "id": "iTExwIkr5e-P",
        "outputId": "7d0b0b28-eae1-481c-f548-85d3acaae703"
      },
      "execution_count": null,
      "outputs": [
        {
          "output_type": "stream",
          "name": "stdout",
          "text": [
            "MAE:  0.7811714259928344\n",
            "MSE:  0.98228031311966\n",
            "RMSE: 0.9911005565126376\n",
            "R2:   0.8135860851695909\n"
          ]
        }
      ]
    },
    {
      "cell_type": "markdown",
      "source": [
        "## **Task 1**\n",
        "\n",
        "Create your own implementation of KNN which should output the same predictions for any k as the one implemented in scikit-learn library. Implement both, distance-weighted and unweighted KNN. The function should work correctly for any number of features, training set sizes, and query list set sizes.\n",
        "\n",
        "*In the code of `predict()` you are allowed to use only the **numpy** library, i.e., you are **not allowed** to use **scikit-learn**.*\n",
        "\n",
        "*You are **not allowed** to modify any given code in this class. You may only add additional code to the `predict()` function.*"
      ],
      "metadata": {
        "id": "M-4g1vsqkdM5"
      }
    },
    {
      "cell_type": "code",
      "source": [
        "from sklearn.base import BaseEstimator\n",
        "\n",
        "class KNN(BaseEstimator):\n",
        "\n",
        "    def __init__(self, k=10, weighted=False):\n",
        "        self.k = k\n",
        "        self.weighted = weighted\n",
        "\n",
        "    def fit(self, X, y):\n",
        "        self.X = X\n",
        "        self.y = y\n",
        "\n",
        "    def predict(self, Xq):\n",
        "\n",
        "        n = len(Xq)\n",
        "        yHat = np.zeros(n)\n",
        "\n",
        "        for q in range(n):\n",
        "            xquery = Xq[q, :]\n",
        "            D = np.sqrt(np.sum((self.X - xquery) ** 2, axis=1))\n",
        "\n",
        "            NN = np.argsort(D)[:self.k]\n",
        "            val = self.y[NN]\n",
        "\n",
        "            if self.weighted:\n",
        "\n",
        "                weights = 1 / (D[NN])\n",
        "                yHat[q] = np.sum(weights * val) / np.sum(weights)\n",
        "\n",
        "            else:\n",
        "                yHat[q] = np.mean(val)\n",
        "\n",
        "        return yHat"
      ],
      "metadata": {
        "id": "YqC8KhQFUTmw"
      },
      "execution_count": 43,
      "outputs": []
    },
    {
      "cell_type": "markdown",
      "source": [
        "Create a KNN model using the newly implemented class."
      ],
      "metadata": {
        "id": "vJtCBKLbl6Om"
      }
    },
    {
      "cell_type": "code",
      "source": [
        "my_knn = KNN(k=10)\n",
        "#my_knn = KNN(k=1, weighted=True)\n",
        "my_knn.fit(X, y)"
      ],
      "metadata": {
        "id": "OT4duxotauXm"
      },
      "execution_count": 48,
      "outputs": []
    },
    {
      "cell_type": "markdown",
      "source": [
        "Plot it.\n",
        "\n",
        "*Note that the plot should be exactly the same as that what you got when you used the scikit-learn function `KNeighborsRegressor`. Compare the plots and, if they are not the same, correct your code.*"
      ],
      "metadata": {
        "id": "_pnDl6Mal7Qt"
      }
    },
    {
      "cell_type": "code",
      "source": [
        "X_plot = np.linspace(-3, 3, 5000).reshape(5000, 1)\n",
        "yHat = my_knn.predict(X_plot)\n",
        "\n",
        "plt.figure(figsize=(6, 4))\n",
        "plt.plot(X, y, \"b.\")\n",
        "plt.plot(X_plot, yHat, \"r-\")\n",
        "plt.xlabel(\"$x_1$\", fontsize=14)\n",
        "plt.ylabel(\"$y$\", fontsize=14)\n",
        "plt.axis([-3, 3, 0, 10])\n",
        "plt.grid()\n",
        "plt.show()"
      ],
      "metadata": {
        "id": "8WBuFO7oWSDo",
        "colab": {
          "base_uri": "https://localhost:8080/",
          "height": 398
        },
        "outputId": "8dd5af8b-4a96-4123-b75b-00d02ab704fe"
      },
      "execution_count": 49,
      "outputs": [
        {
          "output_type": "display_data",
          "data": {
            "text/plain": [
              "<Figure size 600x400 with 1 Axes>"
            ],
            "image/png": "[encoded data removed]"
          },
          "metadata": {}
        }
      ]
    },
    {
      "cell_type": "markdown",
      "source": [
        "Evaluate it.\n",
        "\n",
        "*Note that the evaluation result should be exactly the same as that what you got when you used the scikit-learn function `KNeighborsRegressor`. Compare the results and, if they are not the same, correct your code.*"
      ],
      "metadata": {
        "id": "5k-0onlRl-Vu"
      }
    },
    {
      "cell_type": "code",
      "source": [
        "yHat = cross_val_predict(my_knn, X, y, cv=10)\n",
        "\n",
        "print('MAE: ', mean_absolute_error(y, yHat))\n",
        "print('MSE: ', mean_squared_error(y, yHat))\n",
        "print('RMSE:', root_mean_squared_error(y, yHat))\n",
        "print('R2:  ', r2_score(y, yHat))"
      ],
      "metadata": {
        "id": "dla8niCiWfBo",
        "colab": {
          "base_uri": "https://localhost:8080/"
        },
        "outputId": "3b1793d9-217b-4229-fae7-eefbcc5e6b24"
      },
      "execution_count": 36,
      "outputs": [
        {
          "output_type": "stream",
          "name": "stdout",
          "text": [
            "MAE:  0.7811714259928344\n",
            "MSE:  0.98228031311966\n",
            "RMSE: 0.9911005565126376\n",
            "R2:   0.8135860851695909\n"
          ]
        }
      ]
    },
    {
      "cell_type": "markdown",
      "source": [
        "## **Task 2**\n",
        "\n",
        "Use the `KNeighborsRegressor` class to try KNN with k values from 1 to 20. Compute and print training MSE and cross-validated MSE values for each k. Cross-validation should be done using `cross_val_predict()`. Draw a plot with two curves analogous to the plot shown in **slide 16 on the right** from today's lecture. Add a legend so that it is clear which curve is which."
      ],
      "metadata": {
        "id": "qTmtXU9KmW9-"
      }
    },
    {
      "cell_type": "code",
      "source": [
        "train_mse_list = []\n",
        "crossval_mse_list = []\n",
        "k_values = range(1, 21)\n",
        "for k in k_values:\n",
        "\n",
        "    knn_regressor = KNeighborsRegressor(n_neighbors=k)\n",
        "    knn_regressor.fit(X, y)\n",
        "    train = knn_regressor.predict(X)\n",
        "    train_mse = mean_squared_error(y, train)\n",
        "    yHat = cross_val_predict(knn_regressor, X, y, cv=5)\n",
        "    crossval_mse = mean_squared_error(y, yHat)\n",
        "    train_mse_list.append(train_mse)\n",
        "    crossval_mse_list.append(crossval_mse)\n",
        "\n",
        "    print(f\"k={k}:\\nTraining MSE={train_mse:.4f}\\tCross-validated MSE={crossval_mse:.4f}\")"
      ],
      "metadata": {
        "id": "fEjcQX6EWtsa",
        "colab": {
          "base_uri": "https://localhost:8080/"
        },
        "outputId": "d424a2f1-87a7-4a6d-f194-ca13e6bf8b11"
      },
      "execution_count": 41,
      "outputs": [
        {
          "output_type": "stream",
          "name": "stdout",
          "text": [
            "k=1:\n",
            "Training MSE=0.0000\tCross-validated MSE=1.5139\n",
            "k=2:\n",
            "Training MSE=0.3635\tCross-validated MSE=1.2667\n",
            "k=3:\n",
            "Training MSE=0.5278\tCross-validated MSE=1.1669\n",
            "k=4:\n",
            "Training MSE=0.6058\tCross-validated MSE=1.1463\n",
            "k=5:\n",
            "Training MSE=0.6671\tCross-validated MSE=1.1272\n",
            "k=6:\n",
            "Training MSE=0.7060\tCross-validated MSE=1.1027\n",
            "k=7:\n",
            "Training MSE=0.7161\tCross-validated MSE=1.0830\n",
            "k=8:\n",
            "Training MSE=0.7324\tCross-validated MSE=1.0319\n",
            "k=9:\n",
            "Training MSE=0.7883\tCross-validated MSE=1.0132\n",
            "k=10:\n",
            "Training MSE=0.7829\tCross-validated MSE=1.0104\n",
            "k=11:\n",
            "Training MSE=0.7998\tCross-validated MSE=0.9876\n",
            "k=12:\n",
            "Training MSE=0.8050\tCross-validated MSE=0.9825\n",
            "k=13:\n",
            "Training MSE=0.8073\tCross-validated MSE=0.9767\n",
            "k=14:\n",
            "Training MSE=0.7987\tCross-validated MSE=0.9654\n",
            "k=15:\n",
            "Training MSE=0.7988\tCross-validated MSE=0.9858\n",
            "k=16:\n",
            "Training MSE=0.8045\tCross-validated MSE=1.0289\n",
            "k=17:\n",
            "Training MSE=0.8286\tCross-validated MSE=1.1246\n",
            "k=18:\n",
            "Training MSE=0.8315\tCross-validated MSE=1.1993\n",
            "k=19:\n",
            "Training MSE=0.8719\tCross-validated MSE=1.2209\n",
            "k=20:\n",
            "Training MSE=0.9088\tCross-validated MSE=1.2382\n"
          ]
        }
      ]
    },
    {
      "cell_type": "code",
      "source": [
        "plt.figure(figsize=(15, 8))\n",
        "plt.plot(k_values, train_mse_list, label='Training MSE', marker='o', color='blue')\n",
        "plt.plot(k_values, crossval_mse_list, label='Validation MSE', marker='o', color='green')\n",
        "\n",
        "plt.xlabel('K')\n",
        "plt.ylabel('Mean Squared Error')\n",
        "plt.title('KNN:\\nTraining vs Cross-Validated MSE')\n",
        "plt.legend()\n",
        "plt.grid(True)\n",
        "plt.show()"
      ],
      "metadata": {
        "colab": {
          "base_uri": "https://localhost:8080/",
          "height": 739
        },
        "id": "e4owlS6JtqXa",
        "outputId": "27366ab8-d6fb-46ea-8009-96ae646e37e1"
      },
      "execution_count": 40,
      "outputs": [
        {
          "output_type": "display_data",
          "data": {
            "text/plain": [
              "<Figure size 1500x800 with 1 Axes>"
            ],
            "image/png": "[encoded data removed]"
          },
          "metadata": {}
        }
      ]
    },
    {
      "cell_type": "markdown",
      "source": [
        "\n",
        "## **Task 3**\n",
        "Explain the plot from Task 2. What exactly do we see in it and what conclusions can we make from it?"
      ],
      "metadata": {
        "id": "d4HGjCflmpY4"
      }
    },
    {
      "cell_type": "code",
      "source": [
        "#ANSWER"
      ],
      "metadata": {
        "id": "guBX485RKssN"
      },
      "execution_count": 42,
      "outputs": []
    },
    {
      "cell_type": "markdown",
      "source": [
        "**F**rom the Plot Training MSE vs Validation MSE for KNN, It is observable that the Mean Squared Error for the Training MSE increses as per the increase in K Values whereas Validation MSE has a decrease for the same.\n",
        "\n",
        "In this plot, The best suited K Value is the one with Best Training MSE and Validation MSE (Validation MSE should be small).It is clear fom the chart that the from the 20 samples we took, K Value best suited for the purpose is **K = 14.**\n",
        "\n",
        "\n",
        "---\n",
        "\n",
        "\n",
        "*K = 13 is a good choice too, but K = 14 is the best suitable for prediction.*"
      ],
      "metadata": {
        "id": "YcYXAaV1ngcL"
      }
    },
    {
      "cell_type": "markdown",
      "source": [
        "---\n",
        "**After the tasks are done, submit this file. Do not clear it's output - all print-outs and diagrams should be left in the file.**"
      ],
      "metadata": {
        "id": "Mdjp6USWmljv"
      }
    }
  ],
  "metadata": {
    "kernelspec": {
      "display_name": "Python 3",
      "language": "python",
      "name": "python3"
    },
    "language_info": {
      "codemirror_mode": {
        "name": "ipython",
        "version": 3
      },
      "file_extension": ".py",
      "mimetype": "text/x-python",
      "name": "python",
      "nbconvert_exporter": "python",
      "pygments_lexer": "ipython3",
      "version": "3.7.4"
    },
    "colab": {
      "provenance": []
    }
  },
  "nbformat": 4,
  "nbformat_minor": 0
}