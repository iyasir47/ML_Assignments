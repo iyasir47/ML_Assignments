{
  "cells": [
    {
      "cell_type": "markdown",
      "metadata": {
        "id": "MewediIzjteP"
      },
      "source": [
        "# **Linear Regression**\n",
        "\n",
        "In this notebook we will create Linear Regression models of different degrees using **NumPy** and **Scikit-Learn**."
      ]
    },
    {
      "cell_type": "markdown",
      "source": [
        "First, let's import **NumPy**."
      ],
      "metadata": {
        "id": "O_EJ9P0jkdX7"
      }
    },
    {
      "cell_type": "code",
      "source": [
        "import numpy as np"
      ],
      "metadata": {
        "id": "14zfkNmlkcuV"
      },
      "execution_count": 2,
      "outputs": []
    },
    {
      "cell_type": "markdown",
      "source": [
        "Let's create a dataset for our little experiments."
      ],
      "metadata": {
        "id": "VLTunouckk9V"
      }
    },
    {
      "cell_type": "code",
      "source": [
        "np.random.seed(42)  # to make this code example reproducible\n",
        "n = 100  # number of examples (or instances) in our data\n",
        "X_train = 2 * np.random.rand(n, 1)  # generating input with uniform random values  # column vector\n",
        "y_train = 4 + 3 * X_train + np.random.randn(n, 1)  # generating output with a simple formula plus gaussian noise  # column vector"
      ],
      "metadata": {
        "id": "39foBF_bomPB"
      },
      "execution_count": 42,
      "outputs": []
    },
    {
      "cell_type": "code",
      "source": [
        "np.hstack((X_train, y_train))[:10, :]"
      ],
      "metadata": {
        "colab": {
          "base_uri": "https://localhost:8080/"
        },
        "id": "YiJ7JI--pQHv",
        "outputId": "8de49620-c7aa-4d73-e4f8-a24fe027229e"
      },
      "execution_count": 43,
      "outputs": [
        {
          "output_type": "execute_result",
          "data": {
            "text/plain": [
              "array([[0.74908024, 6.33428778],\n",
              "       [1.90142861, 9.40527849],\n",
              "       [1.46398788, 8.48372443],\n",
              "       [1.19731697, 5.60438199],\n",
              "       [0.31203728, 4.71643995],\n",
              "       [0.31198904, 5.29307969],\n",
              "       [0.11616722, 5.82639572],\n",
              "       [1.73235229, 8.67878666],\n",
              "       [1.20223002, 6.79819647],\n",
              "       [1.41614516, 7.74667842]])"
            ]
          },
          "metadata": {},
          "execution_count": 43
        }
      ]
    },
    {
      "cell_type": "markdown",
      "source": [
        "First, we will visualize the data.\n",
        "\n",
        "Let's import **matplotlib** for this."
      ],
      "metadata": {
        "id": "t0RSnHvBqCcR"
      }
    },
    {
      "cell_type": "code",
      "source": [
        "import matplotlib.pyplot as plt"
      ],
      "metadata": {
        "id": "qWpWhYyepzyZ"
      },
      "execution_count": 11,
      "outputs": []
    },
    {
      "cell_type": "code",
      "source": [
        "plt.figure(figsize=(6, 4))\n",
        "plt.plot(X_train, y_train, \"b.\")  # showing as blue dots\n",
        "plt.xlabel(\"$x_1$\", fontsize=14)  # using TeX formatting\n",
        "plt.ylabel(\"$y$\", fontsize=14)  # using TeX formatting\n",
        "plt.axis([0, 2, 0, 15])\n",
        "plt.grid()\n",
        "plt.show()"
      ],
      "metadata": {
        "colab": {
          "base_uri": "https://localhost:8080/",
          "height": 393
        },
        "id": "YU5Smf1qqVkD",
        "outputId": "4d85c1e2-42d5-451c-8bff-b82c7462fc7c"
      },
      "execution_count": 44,
      "outputs": [
        {
          "output_type": "display_data",
          "data": {
            "text/plain": [
              "<Figure size 600x400 with 1 Axes>"
            ],
            "image/png": "[encoded data removed]"
          },
          "metadata": {}
        }
      ]
    },
    {
      "cell_type": "markdown",
      "source": [
        "For Linear Regression we need X to have a column of all values equal to 1. Let's prepend such column."
      ],
      "metadata": {
        "id": "WE3pbuAitlqe"
      }
    },
    {
      "cell_type": "code",
      "source": [
        "X_train.shape"
      ],
      "metadata": {
        "colab": {
          "base_uri": "https://localhost:8080/"
        },
        "id": "luuc6x0XtDf4",
        "outputId": "3e2d89f3-0057-4fc3-bef0-ff7837608387"
      },
      "execution_count": 18,
      "outputs": [
        {
          "output_type": "execute_result",
          "data": {
            "text/plain": [
              "(100, 1)"
            ]
          },
          "metadata": {},
          "execution_count": 18
        }
      ]
    },
    {
      "cell_type": "code",
      "source": [
        "ones = np.ones((X_train.shape[0], 1))\n",
        "X = np.hstack((ones, X_train))\n",
        "y = y_train"
      ],
      "metadata": {
        "id": "TvLp6GK1tbHi"
      },
      "execution_count": 48,
      "outputs": []
    },
    {
      "cell_type": "code",
      "source": [
        "X.shape"
      ],
      "metadata": {
        "colab": {
          "base_uri": "https://localhost:8080/"
        },
        "id": "bwQwChJOthMB",
        "outputId": "4e937bb9-ed87-49a1-d088-8d9241a3d689"
      },
      "execution_count": 22,
      "outputs": [
        {
          "output_type": "execute_result",
          "data": {
            "text/plain": [
              "(100, 2)"
            ]
          },
          "metadata": {},
          "execution_count": 22
        }
      ]
    },
    {
      "cell_type": "code",
      "source": [
        "np.hstack((X, y))[:10, :]"
      ],
      "metadata": {
        "colab": {
          "base_uri": "https://localhost:8080/"
        },
        "id": "XmVPEoz9_y5S",
        "outputId": "2f139697-78c8-44ef-b8d7-ea0a72b61609"
      },
      "execution_count": 78,
      "outputs": [
        {
          "output_type": "execute_result",
          "data": {
            "text/plain": [
              "array([[ 1.        , -0.75275929,  0.56664654,  1.61761105],\n",
              "       [ 1.        ,  2.70428584,  7.3131619 ,  8.06185944],\n",
              "       [ 1.        ,  1.39196365,  1.93756281,  4.45250583],\n",
              "       [ 1.        ,  0.59195091,  0.35040587,  0.77958493],\n",
              "       [ 1.        , -2.06388816,  4.25963433,  1.84625712],\n",
              "       [ 1.        , -2.06403288,  4.26023172,  2.42319555],\n",
              "       [ 1.        , -2.65149833,  7.03044338,  4.34161741],\n",
              "       [ 1.        ,  2.19705687,  4.82705891,  6.09231611],\n",
              "       [ 1.        ,  0.60669007,  0.36807284,  1.98223289],\n",
              "       [ 1.        ,  1.24843547,  1.55859111,  3.52597398]])"
            ]
          },
          "metadata": {},
          "execution_count": 78
        }
      ]
    },
    {
      "cell_type": "markdown",
      "source": [
        "Remember the formula from the lecture for solving the system of equations: $\\textbf{a} = (\\textbf{X}^T\\textbf{X})^{-1}\\textbf{X}^T\\textbf{y}$\n",
        "\n",
        "Now let's do it in NumPy:"
      ],
      "metadata": {
        "id": "HQubhJuduGnm"
      }
    },
    {
      "cell_type": "code",
      "source": [
        "a = np.linalg.inv(X.T.dot(X)).dot(X.T).dot(y)\n",
        "a"
      ],
      "metadata": {
        "colab": {
          "base_uri": "https://localhost:8080/"
        },
        "id": "9DiHsuAFuFKy",
        "outputId": "5499ce8c-ba9d-406a-f8ab-0e1ba34c3712"
      },
      "execution_count": 63,
      "outputs": [
        {
          "output_type": "execute_result",
          "data": {
            "text/plain": [
              "array([[4.21509616],\n",
              "       [2.77011339]])"
            ]
          },
          "metadata": {},
          "execution_count": 63
        }
      ]
    },
    {
      "cell_type": "markdown",
      "source": [
        "This means that our model is this:"
      ],
      "metadata": {
        "id": "9kWgO8tr4iOf"
      }
    },
    {
      "cell_type": "code",
      "source": [
        "print(f\"yHat = {a.flat[0]} + {a.flat[1]} * x\")"
      ],
      "metadata": {
        "colab": {
          "base_uri": "https://localhost:8080/"
        },
        "id": "rPK90kJn31Wu",
        "outputId": "d1eea6ed-13f1-4732-e635-70840eacc8ff"
      },
      "execution_count": 64,
      "outputs": [
        {
          "output_type": "stream",
          "name": "stdout",
          "text": [
            "yHat = 4.21509615754675 + 2.7701133864384806 * x\n"
          ]
        }
      ]
    },
    {
      "cell_type": "markdown",
      "source": [
        "This is how you use it without anything fancy:"
      ],
      "metadata": {
        "id": "VNbEO9eC4ooV"
      }
    },
    {
      "cell_type": "code",
      "source": [
        "X_test = 1.25\n",
        "\n",
        "yHat = a.flat[0] + a.flat[1] * X_test\n",
        "yHat"
      ],
      "metadata": {
        "colab": {
          "base_uri": "https://localhost:8080/"
        },
        "id": "bqukUsmK4oK4",
        "outputId": "c0cc6175-28ec-4bd5-fc12-e23c5895302c"
      },
      "execution_count": 65,
      "outputs": [
        {
          "output_type": "execute_result",
          "data": {
            "text/plain": [
              "7.677737890594851"
            ]
          },
          "metadata": {},
          "execution_count": 65
        }
      ]
    },
    {
      "cell_type": "markdown",
      "source": [
        "This is how you use it generally without worrying how many parameters there are and how many predictions to do:"
      ],
      "metadata": {
        "id": "7ixGK1bH5fgP"
      }
    },
    {
      "cell_type": "code",
      "source": [
        "X_test = np.array([[1.25]])\n",
        "ones = np.ones((X_test.shape[0],1))\n",
        "X_test = np.hstack((ones, X_test))\n",
        "\n",
        "yHat = X_test.dot(a)\n",
        "yHat"
      ],
      "metadata": {
        "colab": {
          "base_uri": "https://localhost:8080/"
        },
        "id": "ynUcLli63eVj",
        "outputId": "52fe3569-39de-4602-ebdb-a379e88b3e7d"
      },
      "execution_count": 66,
      "outputs": [
        {
          "output_type": "execute_result",
          "data": {
            "text/plain": [
              "array([[7.67773789]])"
            ]
          },
          "metadata": {},
          "execution_count": 66
        }
      ]
    },
    {
      "cell_type": "markdown",
      "source": [
        "Let's predict $\\hat{y}$ at two $x$ and plot our result."
      ],
      "metadata": {
        "id": "7w1MlPhZ7m19"
      }
    },
    {
      "cell_type": "code",
      "source": [
        "X_test = np.array([[1.25], [1.75]])\n",
        "ones = np.ones((X_test.shape[0],1))\n",
        "X_test = np.hstack((ones, X_test))\n",
        "\n",
        "yHat = X_test.dot(a)\n",
        "yHat"
      ],
      "metadata": {
        "colab": {
          "base_uri": "https://localhost:8080/"
        },
        "id": "u2JCq5Uw5793",
        "outputId": "62d514dd-8f0c-4e6c-d1b0-f8f70a8767be"
      },
      "execution_count": 57,
      "outputs": [
        {
          "output_type": "execute_result",
          "data": {
            "text/plain": [
              "array([[7.67773789],\n",
              "       [9.06279458]])"
            ]
          },
          "metadata": {},
          "execution_count": 57
        }
      ]
    },
    {
      "cell_type": "code",
      "source": [
        "plt.figure(figsize=(6, 4))\n",
        "plt.plot(X_train, y_train, \"b.\")\n",
        "plt.plot(X_test[:, 1], yHat, \"ro\")\n",
        "plt.xlabel(\"$x_1$\", fontsize=14)\n",
        "plt.ylabel(\"$y$\", fontsize=14)\n",
        "plt.axis([0, 2, 0, 15])\n",
        "plt.grid()\n",
        "plt.show()"
      ],
      "metadata": {
        "colab": {
          "base_uri": "https://localhost:8080/",
          "height": 388
        },
        "id": "pNrsnoek6Iex",
        "outputId": "d61ec75b-49d3-47f8-cc33-9c44fb248aee"
      },
      "execution_count": 58,
      "outputs": [
        {
          "output_type": "display_data",
          "data": {
            "text/plain": [
              "<Figure size 600x400 with 1 Axes>"
            ],
            "image/png": "[encoded data removed]"
          },
          "metadata": {}
        }
      ]
    },
    {
      "cell_type": "markdown",
      "source": [
        "Let's plot our model."
      ],
      "metadata": {
        "id": "Ww05semI9uN4"
      }
    },
    {
      "cell_type": "code",
      "source": [
        "X_test = np.linspace(0, 2, 100).reshape(100, 1)  # 100 values between 0 and 2\n",
        "ones = np.ones((X_test.shape[0],1))\n",
        "X_test = np.hstack((ones, X_test))\n",
        "\n",
        "yHat = X_test.dot(a)"
      ],
      "metadata": {
        "id": "wfQ8hdgU99Gz"
      },
      "execution_count": 69,
      "outputs": []
    },
    {
      "cell_type": "code",
      "source": [
        "plt.figure(figsize=(6, 4))\n",
        "plt.plot(X_train, y_train, \"b.\")\n",
        "plt.plot(X_test[:, 1], yHat, \"r-\")\n",
        "plt.xlabel(\"$x_1$\", fontsize=14)\n",
        "plt.ylabel(\"$y$\", fontsize=14)\n",
        "plt.axis([0, 2, 0, 15])\n",
        "plt.grid()\n",
        "plt.show()"
      ],
      "metadata": {
        "colab": {
          "base_uri": "https://localhost:8080/",
          "height": 393
        },
        "id": "RkefeJS4-Jgt",
        "outputId": "1fd940bb-fdcd-48f6-b48c-a0149d43ea65"
      },
      "execution_count": 71,
      "outputs": [
        {
          "output_type": "display_data",
          "data": {
            "text/plain": [
              "<Figure size 600x400 with 1 Axes>"
            ],
            "image/png": "[encoded data removed]"
          },
          "metadata": {}
        }
      ]
    },
    {
      "cell_type": "markdown",
      "source": [
        "# Linear Regression with a quadratic polynomial"
      ],
      "metadata": {
        "id": "TjN7t_Gi-2zT"
      }
    },
    {
      "cell_type": "code",
      "source": [
        "np.random.seed(42)\n",
        "n = 100\n",
        "X_train = 6 * np.random.rand(n, 1) - 3\n",
        "y_train = 0.5 * X_train ** 2 + X_train + 2 + np.random.randn(n, 1)"
      ],
      "metadata": {
        "id": "bAWG5cgv-9Mq"
      },
      "execution_count": 72,
      "outputs": []
    },
    {
      "cell_type": "code",
      "source": [
        "plt.figure(figsize=(6, 4))\n",
        "plt.plot(X_train, y_train, \"b.\")\n",
        "plt.xlabel(\"$x_1$\", fontsize=14)\n",
        "plt.ylabel(\"$y$\", fontsize=14)\n",
        "plt.axis([-3, 3, 0, 10])\n",
        "plt.grid()\n",
        "plt.show()"
      ],
      "metadata": {
        "colab": {
          "base_uri": "https://localhost:8080/",
          "height": 398
        },
        "id": "KTkY5wr9_E14",
        "outputId": "2da5b269-3915-404d-ac9d-50831b1c34a6"
      },
      "execution_count": 73,
      "outputs": [
        {
          "output_type": "display_data",
          "data": {
            "text/plain": [
              "<Figure size 600x400 with 1 Axes>"
            ],
            "image/png": "[encoded data removed]"
          },
          "metadata": {}
        }
      ]
    },
    {
      "cell_type": "code",
      "source": [
        "X_train.shape"
      ],
      "metadata": {
        "colab": {
          "base_uri": "https://localhost:8080/"
        },
        "id": "Ht8WdItV_RI1",
        "outputId": "6a53c23b-32c9-40c5-ae9c-78be961acd55"
      },
      "execution_count": 74,
      "outputs": [
        {
          "output_type": "execute_result",
          "data": {
            "text/plain": [
              "(100, 1)"
            ]
          },
          "metadata": {},
          "execution_count": 74
        }
      ]
    },
    {
      "cell_type": "code",
      "source": [
        "ones = np.ones((X_train.shape[0], 1))\n",
        "X = np.hstack((ones, X_train, X_train * X_train))  # creating our matrix with 3 columns\n",
        "y = y_train"
      ],
      "metadata": {
        "id": "byQ1zPVQ_dRL"
      },
      "execution_count": 75,
      "outputs": []
    },
    {
      "cell_type": "code",
      "source": [
        "X.shape"
      ],
      "metadata": {
        "colab": {
          "base_uri": "https://localhost:8080/"
        },
        "id": "AnsDc6vy_jek",
        "outputId": "acde006b-cfb8-4019-99d9-7c490e10f6a0"
      },
      "execution_count": 76,
      "outputs": [
        {
          "output_type": "execute_result",
          "data": {
            "text/plain": [
              "(100, 3)"
            ]
          },
          "metadata": {},
          "execution_count": 76
        }
      ]
    },
    {
      "cell_type": "code",
      "source": [
        "np.hstack((X, y))[:10, :]"
      ],
      "metadata": {
        "colab": {
          "base_uri": "https://localhost:8080/"
        },
        "id": "Tb9yfWuW_lYb",
        "outputId": "d7551f20-06e6-44d4-a045-d480bf9ef42a"
      },
      "execution_count": 77,
      "outputs": [
        {
          "output_type": "execute_result",
          "data": {
            "text/plain": [
              "array([[ 1.        , -0.75275929,  0.56664654,  1.61761105],\n",
              "       [ 1.        ,  2.70428584,  7.3131619 ,  8.06185944],\n",
              "       [ 1.        ,  1.39196365,  1.93756281,  4.45250583],\n",
              "       [ 1.        ,  0.59195091,  0.35040587,  0.77958493],\n",
              "       [ 1.        , -2.06388816,  4.25963433,  1.84625712],\n",
              "       [ 1.        , -2.06403288,  4.26023172,  2.42319555],\n",
              "       [ 1.        , -2.65149833,  7.03044338,  4.34161741],\n",
              "       [ 1.        ,  2.19705687,  4.82705891,  6.09231611],\n",
              "       [ 1.        ,  0.60669007,  0.36807284,  1.98223289],\n",
              "       [ 1.        ,  1.24843547,  1.55859111,  3.52597398]])"
            ]
          },
          "metadata": {},
          "execution_count": 77
        }
      ]
    },
    {
      "cell_type": "code",
      "source": [
        "a = np.linalg.inv(X.T.dot(X)).dot(X.T).dot(y)\n",
        "a"
      ],
      "metadata": {
        "colab": {
          "base_uri": "https://localhost:8080/"
        },
        "id": "9WSehESxAdKk",
        "outputId": "c900a380-b48d-4be8-f5ad-45ea013c6ec7"
      },
      "execution_count": 82,
      "outputs": [
        {
          "output_type": "execute_result",
          "data": {
            "text/plain": [
              "array([[1.78134581],\n",
              "       [0.93366893],\n",
              "       [0.56456263]])"
            ]
          },
          "metadata": {},
          "execution_count": 82
        }
      ]
    },
    {
      "cell_type": "code",
      "source": [
        "X_test = np.linspace(-3, 3, 100).reshape(100, 1)\n",
        "ones = np.ones((X_test.shape[0],1))\n",
        "X_test = np.hstack((ones, X_test, X_test * X_test))\n",
        "\n",
        "yHat = X_test.dot(a)"
      ],
      "metadata": {
        "id": "avyGSccG_9cW"
      },
      "execution_count": 83,
      "outputs": []
    },
    {
      "cell_type": "code",
      "source": [
        "plt.figure(figsize=(6, 4))\n",
        "plt.plot(X_train, y_train, \"b.\")\n",
        "plt.plot(X_test[:, 1], yHat, \"r-\")\n",
        "plt.xlabel(\"$x_1$\", fontsize=14)\n",
        "plt.ylabel(\"$y$\", fontsize=14)\n",
        "plt.axis([-3, 3, 0, 10])\n",
        "plt.grid()\n",
        "plt.show()"
      ],
      "metadata": {
        "colab": {
          "base_uri": "https://localhost:8080/",
          "height": 398
        },
        "id": "5JF0E-iDAFQu",
        "outputId": "4972be10-29ee-4708-9709-cade56bb2e85"
      },
      "execution_count": 85,
      "outputs": [
        {
          "output_type": "display_data",
          "data": {
            "text/plain": [
              "<Figure size 600x400 with 1 Axes>"
            ],
            "image/png": "[encoded data removed]"
          },
          "metadata": {}
        }
      ]
    },
    {
      "cell_type": "markdown",
      "source": [
        "# **The same in Scikit-Learn**\n",
        "\n",
        "**Scikit-Learn** is a popular package containing a collection of tools for machine learning. See more at http://scikit-learn.org.\n",
        "\n",
        "Let's repeat everything that we done so far but in **Scikit-Learn**."
      ],
      "metadata": {
        "id": "t7g5L8XRBy7u"
      }
    },
    {
      "cell_type": "code",
      "source": [
        "from sklearn.linear_model import LinearRegression"
      ],
      "metadata": {
        "id": "A6kODzN2B3gK"
      },
      "execution_count": 86,
      "outputs": []
    },
    {
      "cell_type": "code",
      "source": [
        "np.random.seed(42)\n",
        "n = 100\n",
        "X_train = 2 * np.random.rand(n, 1)\n",
        "y_train = 4 + 3 * X_train + np.random.randn(n, 1)"
      ],
      "metadata": {
        "id": "Nr6DPg4fCE3K"
      },
      "execution_count": 87,
      "outputs": []
    },
    {
      "cell_type": "markdown",
      "source": [
        "Creating the model:"
      ],
      "metadata": {
        "id": "Mx9wTdDADq26"
      }
    },
    {
      "cell_type": "code",
      "source": [
        "lin_reg = LinearRegression()\n",
        "lin_reg.fit(X_train, y_train)  # fitting the model to the data (we can also say \"training the model\")\n",
        "lin_reg.intercept_, lin_reg.coef_  # the two parameters"
      ],
      "metadata": {
        "colab": {
          "base_uri": "https://localhost:8080/"
        },
        "id": "Y_Dtb0SECV4x",
        "outputId": "a3c06af0-a39c-4628-a3ff-be25f3eeac87"
      },
      "execution_count": 88,
      "outputs": [
        {
          "output_type": "execute_result",
          "data": {
            "text/plain": [
              "(array([4.21509616]), array([[2.77011339]]))"
            ]
          },
          "metadata": {},
          "execution_count": 88
        }
      ]
    },
    {
      "cell_type": "markdown",
      "source": [
        "Doing predictions:"
      ],
      "metadata": {
        "id": "AmRXgI2dDt4J"
      }
    },
    {
      "cell_type": "code",
      "source": [
        "X_test = np.array([[1.25]])\n",
        "\n",
        "yHat = lin_reg.predict(X_test)  # this function uses our model to predict the output for the given input\n",
        "yHat"
      ],
      "metadata": {
        "colab": {
          "base_uri": "https://localhost:8080/"
        },
        "id": "kTdeR0GtCbTe",
        "outputId": "da772849-899c-47b8-a494-4b0dd5a4b98b"
      },
      "execution_count": 90,
      "outputs": [
        {
          "output_type": "execute_result",
          "data": {
            "text/plain": [
              "array([[7.67773789]])"
            ]
          },
          "metadata": {},
          "execution_count": 90
        }
      ]
    },
    {
      "cell_type": "markdown",
      "source": [
        "Plotting:"
      ],
      "metadata": {
        "id": "xKKrHgTtDwU1"
      }
    },
    {
      "cell_type": "code",
      "source": [
        "X_test = np.linspace(0, 2, 100).reshape(100, 1)\n",
        "yHat = lin_reg.predict(X_test)  # predicting the output for each value"
      ],
      "metadata": {
        "id": "VU83z_RvCnwi"
      },
      "execution_count": 93,
      "outputs": []
    },
    {
      "cell_type": "code",
      "source": [
        "plt.figure(figsize=(6, 4))\n",
        "plt.plot(X_train, y_train, \"b.\")\n",
        "plt.plot(X_test, yHat, \"r-\")\n",
        "plt.xlabel(\"$x_1$\", fontsize=14)\n",
        "plt.ylabel(\"$y$\", fontsize=14)\n",
        "plt.axis([0, 2, 0, 15])\n",
        "plt.grid()\n",
        "plt.show()"
      ],
      "metadata": {
        "colab": {
          "base_uri": "https://localhost:8080/",
          "height": 393
        },
        "id": "VZESbNW_Cwtc",
        "outputId": "787c92bd-ecb7-4b26-99cf-ce9abbc24e96"
      },
      "execution_count": 94,
      "outputs": [
        {
          "output_type": "display_data",
          "data": {
            "text/plain": [
              "<Figure size 600x400 with 1 Axes>"
            ],
            "image/png": "[encoded data removed]"
          },
          "metadata": {}
        }
      ]
    },
    {
      "cell_type": "markdown",
      "source": [
        "# Now with quadratic polynomial"
      ],
      "metadata": {
        "id": "GppBCX4TDzdc"
      }
    },
    {
      "cell_type": "code",
      "source": [
        "np.random.seed(42)\n",
        "n = 100\n",
        "X_train = 6 * np.random.rand(n, 1) - 3\n",
        "y_train = 0.5 * X_train ** 2 + X_train + 2 + np.random.randn(n, 1)"
      ],
      "metadata": {
        "id": "AcRDygbSC25G"
      },
      "execution_count": 95,
      "outputs": []
    },
    {
      "cell_type": "markdown",
      "source": [
        "We need to add feature where the $x$ is squared:"
      ],
      "metadata": {
        "id": "Gy5Im5L8D7nE"
      }
    },
    {
      "cell_type": "code",
      "source": [
        "from sklearn.preprocessing import PolynomialFeatures\n",
        "\n",
        "poly_features = PolynomialFeatures(degree=2, include_bias=False)  # definint degree and that we don't need the column with all ones\n",
        "X_poly = poly_features.fit_transform(X_train)  # creating the features\n",
        "X_poly[:20, :]"
      ],
      "metadata": {
        "colab": {
          "base_uri": "https://localhost:8080/"
        },
        "id": "6u53w-1fC-GR",
        "outputId": "76dd9b9f-262c-4b48-8477-e64f2f176d63"
      },
      "execution_count": 99,
      "outputs": [
        {
          "output_type": "execute_result",
          "data": {
            "text/plain": [
              "array([[-0.75275929,  0.56664654],\n",
              "       [ 2.70428584,  7.3131619 ],\n",
              "       [ 1.39196365,  1.93756281],\n",
              "       [ 0.59195091,  0.35040587],\n",
              "       [-2.06388816,  4.25963433],\n",
              "       [-2.06403288,  4.26023172],\n",
              "       [-2.65149833,  7.03044338],\n",
              "       [ 2.19705687,  4.82705891],\n",
              "       [ 0.60669007,  0.36807284],\n",
              "       [ 1.24843547,  1.55859111],\n",
              "       [-2.87649303,  8.27421218],\n",
              "       [ 2.81945911,  7.94934969],\n",
              "       [ 1.99465584,  3.97865194],\n",
              "       [-1.72596534,  2.97895634],\n",
              "       [-1.9090502 ,  3.64447265],\n",
              "       [-1.89957294,  3.60837736],\n",
              "       [-1.17454654,  1.37955958],\n",
              "       [ 0.14853859,  0.02206371],\n",
              "       [-0.40832989,  0.1667333 ],\n",
              "       [-1.25262516,  1.56906979]])"
            ]
          },
          "metadata": {},
          "execution_count": 99
        }
      ]
    },
    {
      "cell_type": "markdown",
      "source": [
        "Creating the model:"
      ],
      "metadata": {
        "id": "JneBkz5oESxv"
      }
    },
    {
      "cell_type": "code",
      "source": [
        "lin_reg = LinearRegression()\n",
        "lin_reg.fit(X_poly, y_train)\n",
        "lin_reg.intercept_, lin_reg.coef_"
      ],
      "metadata": {
        "colab": {
          "base_uri": "https://localhost:8080/"
        },
        "id": "1Pzben2hDSiu",
        "outputId": "bd5df591-6671-42e1-ac5d-98d7c9df81d6"
      },
      "execution_count": 100,
      "outputs": [
        {
          "output_type": "execute_result",
          "data": {
            "text/plain": [
              "(array([1.78134581]), array([[0.93366893, 0.56456263]]))"
            ]
          },
          "metadata": {},
          "execution_count": 100
        }
      ]
    },
    {
      "cell_type": "markdown",
      "source": [
        "Plotting:"
      ],
      "metadata": {
        "id": "Uo5XEsI9EUzU"
      }
    },
    {
      "cell_type": "code",
      "source": [
        "X_test = np.linspace(-3, 3, 100).reshape(100, 1)\n",
        "poly_features = PolynomialFeatures(degree=2, include_bias=False)\n",
        "X_poly = poly_features.fit_transform(X_test)\n",
        "yHat = lin_reg.predict(X_poly)"
      ],
      "metadata": {
        "id": "rFnIyxULDZ1L"
      },
      "execution_count": 102,
      "outputs": []
    },
    {
      "cell_type": "code",
      "source": [
        "plt.figure(figsize=(6, 4))\n",
        "plt.plot(X_train, y_train, \"b.\")\n",
        "plt.plot(X_test, yHat, \"r-\")\n",
        "plt.xlabel(\"$x_1$\", fontsize=14)\n",
        "plt.ylabel(\"$y$\", fontsize=14)\n",
        "plt.axis([-3, 3, 0, 10])\n",
        "plt.grid()\n",
        "plt.show()"
      ],
      "metadata": {
        "colab": {
          "base_uri": "https://localhost:8080/",
          "height": 398
        },
        "id": "aoQSuI4WDfUc",
        "outputId": "ceb490c4-8ce3-4204-9360-809f6c6784cc"
      },
      "execution_count": 104,
      "outputs": [
        {
          "output_type": "display_data",
          "data": {
            "text/plain": [
              "<Figure size 600x400 with 1 Axes>"
            ],
            "image/png": "[encoded data removed]"
          },
          "metadata": {}
        }
      ]
    },
    {
      "cell_type": "markdown",
      "metadata": {
        "id": "stUda4CAjteQ"
      },
      "source": [
        "---\n",
        "*Some parts of this notebook are partially based on the book <a href=\"https://www.oreilly.com/library/view/hands-on-machine-learning/9781098125967/\" target=\"_blank\">“Hands-On Machine Learning”</a> and it's <a href=\"https://github.com/ageron/handson-ml3\" target=\"_blank\">GitHub repo.</a>*"
      ]
    }
  ],
  "metadata": {
    "kernelspec": {
      "display_name": "Python 3",
      "language": "python",
      "name": "python3"
    },
    "language_info": {
      "codemirror_mode": {
        "name": "ipython",
        "version": 3
      },
      "file_extension": ".py",
      "mimetype": "text/x-python",
      "name": "python",
      "nbconvert_exporter": "python",
      "pygments_lexer": "ipython3",
      "version": "3.7.4"
    },
    "colab": {
      "provenance": []
    }
  },
  "nbformat": 4,
  "nbformat_minor": 0
}